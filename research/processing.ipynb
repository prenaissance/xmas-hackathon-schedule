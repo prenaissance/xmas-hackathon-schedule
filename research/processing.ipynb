{
 "cells": [
  {
   "cell_type": "code",
   "execution_count": 7,
   "metadata": {},
   "outputs": [
    {
     "data": {
      "text/plain": [
       "0    0\n",
       "1    0\n",
       "2    0\n",
       "3    0\n",
       "4    0\n",
       "Name: LAB, dtype: int64"
      ]
     },
     "execution_count": 7,
     "metadata": {},
     "output_type": "execute_result"
    }
   ],
   "source": [
    "import pandas as pd\n",
    "cabinets_df = pd.read_csv(\"./data/cabinets.csv\")\n",
    "groups_df = pd.read_csv(\"./data/groups.csv\")\n",
    "professors_df = pd.read_csv(\"./data/professors.csv\")\n",
    "subjects_df = pd.read_csv(\"./data/subjects.csv\")\n",
    "\n",
    "groups_df.rename(columns={\n",
    "    \"nr_persoane\": \"people_count\"\n",
    "}, inplace=True)\n",
    "\n",
    "subjects_df.rename(columns={\n",
    "    \"unitate_curs\": \"course\",\n",
    "    \"teorie\": \"theory\",\n",
    "    \"practica\": \"practice\",\n",
    "    \"lab\": \"labs\",\n",
    "    \"TOTAL\": \"projects\",\n",
    "    \"anul\": \"year\",\n",
    "    \"semester\": \"semester\"\n",
    "}, inplace= True)\n",
    "\n",
    "cabinets_df.rename(columns={\n",
    "    \"nr_persons\": \"cabinet_capacity\"\n",
    "}, inplace=True)\n",
    "cabinets_df[\"cabinet_capacity\"].fillna(30, inplace=True)\n",
    "\n",
    "one_hot_df = pd.DataFrame(professors_df[\"type\"])\n",
    "\n",
    "# Creating dummy variables using get_dummies\n",
    "dummies = one_hot_df['type'].str.get_dummies(sep=',')\n",
    "\n",
    "# Concatenating the dummy variables with the original DataFrame\n",
    "one_hot_df = pd.concat([one_hot_df, dummies], axis=1)\n",
    "professors_df.drop(\"type\", axis=1, inplace=True)\n",
    "professors_df = pd.concat([professors_df, one_hot_df], axis=1)"
   ]
  },
  {
   "cell_type": "code",
   "execution_count": null,
   "metadata": {},
   "outputs": [],
   "source": []
  }
 ],
 "metadata": {
  "kernelspec": {
   "display_name": "research",
   "language": "python",
   "name": "python3"
  },
  "language_info": {
   "codemirror_mode": {
    "name": "ipython",
    "version": 3
   },
   "file_extension": ".py",
   "mimetype": "text/x-python",
   "name": "python",
   "nbconvert_exporter": "python",
   "pygments_lexer": "ipython3",
   "version": "3.11.2"
  }
 },
 "nbformat": 4,
 "nbformat_minor": 2
}
