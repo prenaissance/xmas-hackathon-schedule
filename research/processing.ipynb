{
 "cells": [
  {
   "cell_type": "code",
   "execution_count": 434,
   "metadata": {},
   "outputs": [
    {
     "name": "stdout",
     "output_type": "stream",
     "text": [
      "   id speciality language  people_count  subject_ids\n",
      "0   1     AI-231       ro            31          1.0\n",
      "0   1     AI-231       ro            31          3.0\n",
      "0   1     AI-231       ro            31         10.0\n",
      "0   1     AI-231       ro            31         11.0\n",
      "0   1     AI-231       ro            31          4.0\n"
     ]
    }
   ],
   "source": [
    "import pandas as pd\n",
    "DAYS = 6\n",
    "LESSONS_PER_DAY = 7\n",
    "day_of_week_prefixes = [\n",
    "    \"mon\",\n",
    "    \"tue\",\n",
    "    \"wed\",\n",
    "    \"thu\",\n",
    "    \"fri\",\n",
    "    \"sat\"\n",
    "]\n",
    "cabinets_df = pd.read_csv(\"./data/cabinets.csv\")\n",
    "groups_df = pd.read_csv(\"./data/groups.csv\")\n",
    "professors_df = pd.read_csv(\"./data/professors.csv\")\n",
    "subjects_df = pd.read_csv(\"./data/subjects.csv\")\n",
    "\n",
    "groups_df.rename(columns={\n",
    "    \"nr_persoane\": \"people_count\"\n",
    "}, inplace=True)\n",
    "\n",
    "groups_df[\"subject_ids\"] = groups_df[\"subject_ids\"].str.split(',')\n",
    "groups_df = groups_df.explode(\"subject_ids\")\n",
    "groups_df['subject_ids'] = pd.to_numeric(groups_df['subject_ids'], errors='coerce')\n",
    "groups_df = groups_df.dropna(subset=['subject_ids'])\n",
    "print(groups_df.head())\n",
    "\n",
    "subjects_df.rename(columns={\n",
    "    \"unitate_curs\": \"course\",\n",
    "    \"teorie\": \"theory\",\n",
    "    \"practica\": \"practice\",\n",
    "    \"lab\": \"labs\",\n",
    "    \"TOTAL\": \"projects\",\n",
    "    \"anul\": \"year\",\n",
    "    \"semestru\": \"semester\"\n",
    "}, inplace= True)\n",
    "\n",
    "# NaN is replaced too\n",
    "subjects_df.drop(columns=[\"projects\"], inplace=True)\n",
    "subjects_df['semester'] = subjects_df['semester'].str.split(',')\n",
    "subjects_df = subjects_df.explode('semester')\n",
    "subjects_df = subjects_df.astype({\"id\": int, \"year\": int, \"semester\": int, \"theory\": int, \"practice\": int, \"labs\": int})\n",
    "\n",
    "cabinets_df.rename(columns={\n",
    "    \"nr_persons\": \"cabinet_capacity\",\n",
    "    \"id \": \"id\"\n",
    "}, inplace=True)\n",
    "cabinets_df[\"cabinet_capacity\"].fillna(30, inplace=True)\n",
    "\n",
    "one_hot_df = pd.DataFrame(professors_df[\"type\"])\n",
    "\n",
    "# Creating dummy variables using get_dummies\n",
    "dummies = one_hot_df['type'].str.get_dummies(sep=',')\n",
    "\n",
    "# Concatenating the dummy variables with the original DataFrame\n",
    "one_hot_df = pd.concat([one_hot_df, dummies], axis=1)\n",
    "professors_df.drop(\"type\", axis=1, inplace=True)\n",
    "professors_df = pd.concat([professors_df, one_hot_df], axis=1)\n",
    "professors_df.rename(columns={\n",
    "    \"TEOR\": \"theory\",\n",
    "    \"PRACT\": \"practice\",\n",
    "    \"LAB\": \"labs\",\n",
    "}, inplace=True)"
   ]
  },
  {
   "cell_type": "markdown",
   "metadata": {},
   "source": [
    "Create the currently existent timetable into a matrix for each academic group.\n",
    "\n",
    "TI-224 -> [\n",
    "\n",
    "    // Monday\n",
    "\n",
    "    [\n",
    "\n",
    "        // 8:00 - 9:30\n",
    "\n",
    "        [None, {}, {}, {}]\n",
    "\n",
    "        // 9:45 - 11:15\n",
    "\n",
    "        [None, {}, {}, {}]\n",
    "\n",
    "        // 11:30 - 13:00\n",
    "\n",
    "        [None, {}, {}, {}]\n",
    "\n",
    "    ]\n",
    "    \n",
    "]"
   ]
  },
  {
   "cell_type": "code",
   "execution_count": 435,
   "metadata": {},
   "outputs": [
    {
     "name": "stdout",
     "output_type": "stream",
     "text": [
      "   id                                             course  theory  practice  \\\n",
      "0   1                                                AM1      30        30   \n",
      "2   3                                               ALGA      30        15   \n",
      "3   4                                                 PC      30        30   \n",
      "4   5                                                PSA      30        15   \n",
      "5   6  Etica și integritatea academică/ Psihologie in...      30         0   \n",
      "\n",
      "   labs  year  semester  \n",
      "0     0     1         1  \n",
      "2     0     1         1  \n",
      "3    30     1         1  \n",
      "4    15     1         1  \n",
      "5     0     1         1  \n"
     ]
    }
   ],
   "source": [
    "# get first year first semester only\n",
    "subjects_df = subjects_df[(subjects_df[\"year\"] == 1) & (subjects_df[\"semester\"] == 1)]\n",
    "print(subjects_df.head())\n",
    "\n",
    "from dataclasses import dataclass\n",
    "\n",
    "@dataclass\n",
    "class Lesson:\n",
    "    subject: str\n",
    "    type: str\n",
    "    groups: list\n",
    "    professor: str\n",
    "    cabinet: str"
   ]
  },
  {
   "cell_type": "code",
   "execution_count": 436,
   "metadata": {},
   "outputs": [
    {
     "name": "stdout",
     "output_type": "stream",
     "text": [
      "  cabinet_id professor_id\n",
      "0        3-3            1\n",
      "1        3-3            2\n",
      "2        3-3            3\n",
      "3        3-3            7\n",
      "4        3-3            8\n"
     ]
    }
   ],
   "source": [
    "cabinet_schedule_df = pd.DataFrame.copy(cabinets_df)\n",
    "cabinet_schedule_df[\"count\"] = 0\n",
    "# add cross product for days and each lesson\n",
    "new_keys = {\n",
    "    \"day\": list(list(range(0, DAYS)) for _ in range(0, cabinet_schedule_df.shape[0])),\n",
    "    \"lesson_number\": list(list(range(0, LESSONS_PER_DAY)) for _ in range(0, cabinet_schedule_df.shape[0]))\n",
    "}\n",
    "cabinet_schedule_df = cabinet_schedule_df.assign(**new_keys)\n",
    "cabinet_schedule_df = cabinet_schedule_df.explode(\"day\", ignore_index=True)\n",
    "cabinet_schedule_df = cabinet_schedule_df.explode(\"lesson_number\", ignore_index=True)\n",
    "availability_fields = [\n",
    "    day_of_week_prefixes[row[\"day\"]] + \"_per_\" + str(row[\"lesson_number\"] + 1) for _, row in cabinet_schedule_df.iterrows()\n",
    "]\n",
    "cabinet_schedule_df[\"availability\"] = availability_fields\n",
    "\n",
    "def get_cabinets_to_professors_df():\n",
    "    cabinets_to_professors_df = pd.DataFrame(columns=[\"cabinet_id\", \"professor_id\"])\n",
    "    for _, row in cabinet_schedule_df.iterrows():\n",
    "        is_lab_cab = row[\"is_lab_cab\"] == 1\n",
    "        availability_field = row[\"availability\"]\n",
    "        available_professor_ids = professors_df[((professors_df[\"labs\"] != 0) == is_lab_cab) & (professors_df[availability_field] == 1)][\"id\"]\n",
    "\n",
    "        df = pd.DataFrame(columns=[\"cabinet_id\", \"professor_id\"])\n",
    "        df[\"professor_id\"] = available_professor_ids\n",
    "        df[\"cabinet_id\"] = [row.iloc[0] for _ in range(0, available_professor_ids.shape[0])]\n",
    "        cabinets_to_professors_df = pd.concat([cabinets_to_professors_df, df], ignore_index=True)\n",
    "    return cabinets_to_professors_df\n",
    "    \n",
    "cabinets_to_professors_df = get_cabinets_to_professors_df()\n",
    "print(cabinets_to_professors_df.head())"
   ]
  },
  {
   "cell_type": "code",
   "execution_count": 437,
   "metadata": {},
   "outputs": [],
   "source": [
    "solution_df = pd.DataFrame(columns=[\"day\", \"lesson_number\", \"cabinet\", \"subject\", \"type\", \"groups\", \"professor\"])"
   ]
  },
  {
   "cell_type": "code",
   "execution_count": null,
   "metadata": {},
   "outputs": [],
   "source": []
  },
  {
   "cell_type": "code",
   "execution_count": 445,
   "metadata": {},
   "outputs": [],
   "source": [
    "from typing import Dict, List\n",
    "\n",
    "def step_wave_function_collapse(subjects_df: pd.DataFrame, groups_df: pd.DataFrame, professors_df: pd.DataFrame, cabinets_df: pd.DataFrame, cabinet_schedule_df: pd.DataFrame):\n",
    "    superpositions = pd.DataFrame(columns=[\"day\", \"lesson_number\", \"cabinet\", \"subject\", \"type\", \"groups\", \"professor\"])\n",
    "    available_cabinets = cabinet_schedule_df[cabinet_schedule_df[\"count\"] == 0] # should be more complex logic later\n",
    "    available_cabinets = available_cabinets.merge(cabinets_to_professors_df, left_on=\"id\", right_on=\"cabinet_id\")\n",
    "    available_cabinets_with_professors = available_cabinets.merge(professors_df, left_on=[\"professor_id\"], right_on=[\"id\"], suffixes=(\"_cabinet\", \"_professor\"))\n",
    "\n",
    "    # join subjects with professors that teach the subject and groups that learn the subject\n",
    "    cabinets_with_professors_with_subjects = pd.merge(subjects_df, available_cabinets_with_professors, left_on=\"id\", right_on=\"subject\", suffixes=(\"_subject\", \"_professor\"))\n",
    "    cabinets_with_professors_with_subjects_with_groups = pd.merge(cabinets_with_professors_with_subjects, groups_df, left_on=\"id\", right_on=\"subject_ids\", suffixes=(\"_subject\", \"_group\"))\n",
    "    \n",
    "    cabinet_combinations_lab = cabinets_with_professors_with_subjects_with_groups[\n",
    "        (cabinets_with_professors_with_subjects_with_groups[\"labs_professor\"] > 0) &\n",
    "        (cabinets_with_professors_with_subjects_with_groups[\"labs_subject\"] > 0)\n",
    "    ]\n",
    "    cabinet_combinations_lab[\"lesson_type\"] = \"lab\"\n",
    "    \n",
    "    cabinet_combinations_theory = cabinets_with_professors_with_subjects_with_groups[\n",
    "        (cabinets_with_professors_with_subjects_with_groups[\"theory_professor\"] > 0) &\n",
    "        (cabinets_with_professors_with_subjects_with_groups[\"theory_subject\"] > 0)\n",
    "    ]\n",
    "    cabinet_combinations_theory[\"lesson_type\"] = \"theory\"\n",
    "    \n",
    "    cabinet_combinations_practice = cabinets_with_professors_with_subjects_with_groups[\n",
    "        (cabinets_with_professors_with_subjects_with_groups[\"practice_professor\"] > 0) &\n",
    "        (cabinets_with_professors_with_subjects_with_groups[\"practice_subject\"] > 0)\n",
    "    ]\n",
    "    cabinet_combinations_practice[\"lesson_type\"] = \"practice\"\n",
    "    \n",
    "    cabinet_combinations = pd.concat([cabinet_combinations_lab, cabinet_combinations_theory, cabinet_combinations_practice])\n",
    "    print(cabinet_combinations.shape)\n",
    "    print(cabinet_combinations.columns)\n",
    "    # cabinet_combinations = cabinet_combinations[[\"day\", \"lesson_number\", \"cabinet\", \"id_subject\", \"lesson_type\", \"groups_group\", \"professor\"]]\n"
   ]
  },
  {
   "cell_type": "code",
   "execution_count": 446,
   "metadata": {},
   "outputs": [
    {
     "name": "stderr",
     "output_type": "stream",
     "text": [
      "C:\\Users\\DVR\\AppData\\Local\\Temp\\ipykernel_29372\\2454797883.py:17: SettingWithCopyWarning: \n",
      "A value is trying to be set on a copy of a slice from a DataFrame.\n",
      "Try using .loc[row_indexer,col_indexer] = value instead\n",
      "\n",
      "See the caveats in the documentation: https://pandas.pydata.org/pandas-docs/stable/user_guide/indexing.html#returning-a-view-versus-a-copy\n",
      "  cabinet_combinations_lab[\"lesson_type\"] = \"lab\"\n"
     ]
    }
   ],
   "source": [
    "step_wave_function_collapse(subjects_df, groups_df, professors_df, cabinets_df, cabinet_schedule_df)"
   ]
  },
  {
   "cell_type": "code",
   "execution_count": null,
   "metadata": {},
   "outputs": [],
   "source": []
  }
 ],
 "metadata": {
  "kernelspec": {
   "display_name": "research",
   "language": "python",
   "name": "python3"
  },
  "language_info": {
   "codemirror_mode": {
    "name": "ipython",
    "version": 3
   },
   "file_extension": ".py",
   "mimetype": "text/x-python",
   "name": "python",
   "nbconvert_exporter": "python",
   "pygments_lexer": "ipython3",
   "version": "3.11.2"
  }
 },
 "nbformat": 4,
 "nbformat_minor": 2
}
